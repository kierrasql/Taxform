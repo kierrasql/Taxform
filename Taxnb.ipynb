{
 "cells": [
  {
   "cell_type": "code",
   "execution_count": null,
   "metadata": {},
   "outputs": [
    {
     "name": "stdout",
     "output_type": "stream",
     "text": [
      "Welcome to the Family Tax Form\n",
      "Wages, salaries, and tips earned by Husband:$\n"
     ]
    }
   ],
   "source": [
    "#Introducting Families to Tax Form\n",
    "\n",
    "print(\"Welcome to the Family Tax Form\")\n",
    " \n",
    "# Asking for user input\n",
    "\n",
    "print(\"Wages, salaries, and tips earned by Husband:$\")\n",
    "husbandanswer= int(input(\"Fill in:\"))\n",
    "print(\"Wages, salaries, and tips earned by Wife:$\")\n",
    "wifeanswer= int(input(\"Fill in:\")) \n",
    "print (\"Bonus earned by the family combined:$\")\n",
    "familybonus= int(input(\"Fill in:\"))\n",
    "\n",
    "#Display yearly income for family\n",
    "\n",
    "print(\"This is your yearly income:$\")\n",
    "yearlyincome=print(husbandanswer + wifeanswer+ familybonus)\n",
    "yearlyincome=(husbandanswer + wifeanswer+ familybonus)\n",
    "\n",
    "#Standard Deductable and making yearlyincome int\n",
    "standard= 5000\n",
    "yearlyincome=int(yearlyincome)\n",
    "\n",
    "\n",
    "print(\"This is your Taxable Income:$\")\n",
    "\n",
    "#Taxable Income is yearlyincome substracted by standard deductable \n",
    "\n",
    "Taxableincome= int(yearlyincome) - int(standard)\n",
    "print(\"You balance is now: $\" + str(Taxableincome) + \".\") \n",
    "\n",
    "#If statement \n",
    "\n",
    "if standard>yearlyincome:\n",
    "  print(\"-0-\")\n",
    "\n",
    "print (\"Federal income tax withheld from paychecks for Husband\")\n",
    "\n",
    "incometaxhusband=int(input(\"Fill in:$\"))\n",
    "\n",
    "print(\"Federal income tax withheld from paychecks for Wife:$\")\n",
    "incometaxwife=int(input(\"Fill in:\"))\n",
    "\n",
    "print(\"These are your total payments and credits:$\")\n",
    "paycredits=print(incometaxhusband + incometaxwife)\n",
    "paycredits=(incometaxhusband+incometaxwife)\n",
    "\n",
    "print(\"Your Federal Tax is:$\")\n",
    "Federaltax=print(Taxableincome * 0.28)\n",
    "Federaltax=(Taxableincome * 0.28)\n",
    "\n",
    "print(\"Property Tax to be owed?\")\n",
    "propertytax=int(input(\"Fill in:$\"))\n",
    "                \n",
    "owed=print(\"Tax Owed is $\", Taxableincome + propertytax)\n",
    "owed=(Taxableincome+propertytax)\n",
    "\n",
    "print(\"Total Tax:$\",owed + Federaltax)\n",
    "\n",
    "TotalTax=(owed + Federaltax)\n",
    "\n",
    "if result>paycredits:\n",
    "    print(\"The amount you have to pay:\")\n",
    "    \n",
    "    \n",
    "if result<paycredits:\n",
    "    print(\"The amount you overpaid:\")\n",
    "\n",
    "result=print(TotalTax-paycredits)\n",
    "result=(TotalTax-paycredits)\n",
    "\n",
    "print(\"Thank you!\")\n"
   ]
  },
  {
   "cell_type": "code",
   "execution_count": null,
   "metadata": {},
   "outputs": [],
   "source": []
  }
 ],
 "metadata": {
  "kernelspec": {
   "display_name": "Python 3",
   "language": "python",
   "name": "python3"
  },
  "language_info": {
   "codemirror_mode": {
    "name": "ipython",
    "version": 3
   },
   "file_extension": ".py",
   "mimetype": "text/x-python",
   "name": "python",
   "nbconvert_exporter": "python",
   "pygments_lexer": "ipython3",
   "version": "3.8.5"
  }
 },
 "nbformat": 4,
 "nbformat_minor": 4
}
